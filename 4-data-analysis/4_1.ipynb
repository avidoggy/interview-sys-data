{
 "cells": [
  {
   "cell_type": "code",
   "execution_count": 1,
   "metadata": {},
   "outputs": [],
   "source": [
    "from pyspark.sql import *\n",
    "from pyspark.sql.functions import *\n",
    "from user_agents import parse"
   ]
  },
  {
   "cell_type": "code",
   "execution_count": 2,
   "metadata": {},
   "outputs": [],
   "source": [
    "spark = SparkSession.builder.appName('4_1').master('local[2]').config('driver.memory', '8g').getOrCreate()"
   ]
  },
  {
   "cell_type": "code",
   "execution_count": 3,
   "metadata": {},
   "outputs": [],
   "source": [
    "rdd = spark.sparkContext.textFile('../dataset1')"
   ]
  },
  {
   "cell_type": "code",
   "execution_count": 4,
   "metadata": {},
   "outputs": [
    {
     "data": {
      "text/plain": [
       "1977"
      ]
     },
     "execution_count": 4,
     "metadata": {},
     "output_type": "execute_result"
    }
   ],
   "source": [
    "rdd.count()"
   ]
  },
  {
   "cell_type": "code",
   "execution_count": 5,
   "metadata": {},
   "outputs": [],
   "source": [
    "def clean_window_os(user_agent):\n",
    "    if user_agent.os.family.startswith('Windows'):\n",
    "        return 'Windows'\n",
    "    else:\n",
    "        return user_agent.os.family\n",
    "\n",
    "def clean_window_os_version(user_agent):\n",
    "    if user_agent.os.family.startswith('Windows'):\n",
    "        return user_agent.os.family.split(' ')[1].split('.')[0]\n",
    "    elif user_agent.os.family.startswith('Mac OS X'):\n",
    "        tmp=user_agent.os.version_string.split('.')[:2]\n",
    "        return '.'.join(tmp)\n",
    "    elif not user_agent.os.version_string:\n",
    "        return '-1'\n",
    "    else:\n",
    "        return user_agent.os.version_string.split('.')[0]\n",
    "\n",
    "def clean_browser(user_agent):\n",
    "    if user_agent.browser.family.startswith('Chrome Mobile'):\n",
    "        return 'Chrome'\n",
    "    elif user_agent.browser.family.startswith('Mobile Safari'):\n",
    "        return 'Safari'\n",
    "    elif user_agent.browser.family.startswith('Opera Mobile'):\n",
    "        return 'Opera'\n",
    "    else:\n",
    "        return user_agent.browser.family"
   ]
  },
  {
   "cell_type": "code",
   "execution_count": 6,
   "metadata": {
    "scrolled": true
   },
   "outputs": [
    {
     "name": "stdout",
     "output_type": "stream",
     "text": [
      "+----------------+---------------+------------+------------+------+---------+-----+---------+-------+----------+\n",
      "|         browser|browser_version|device_brand|device_model|is_bot|is_mobile|is_pc|is_tablet|     os|os_version|\n",
      "+----------------+---------------+------------+------------+------+---------+-----+---------+-------+----------+\n",
      "|         Firefox|             54|       Other|       Other|     0|        0|    1|        0|Windows|        10|\n",
      "|Samsung Internet|              5|     Samsung|    SM-G935F|     0|        1|    0|        0|Android|         7|\n",
      "|          Chrome|             59|       Other|       Other|     0|        0|    1|        0|Windows|         8|\n",
      "|          Chrome|             59|       Other|       Other|     0|        0|    1|        0|Windows|         7|\n",
      "|          Safari|             10|       Apple|      iPhone|     0|        1|    0|        0|    iOS|        10|\n",
      "+----------------+---------------+------------+------------+------+---------+-----+---------+-------+----------+\n",
      "only showing top 5 rows\n",
      "\n"
     ]
    }
   ],
   "source": [
    "df = rdd\\\n",
    "    .map(lambda string: parse(string))\\\n",
    "    .map(lambda user_agent: Row(\n",
    "        browser=clean_browser(user_agent),\n",
    "        browser_version=user_agent.browser.version_string.split('.')[0],\n",
    "        os=clean_window_os(user_agent),\n",
    "        os_version=clean_window_os_version(user_agent),\n",
    "        device_brand=user_agent.device.brand,\n",
    "        device_model=user_agent.device.model,\n",
    "        is_mobile=int(user_agent.is_mobile),\n",
    "        is_tablet=int(user_agent.is_tablet),\n",
    "        is_pc=int(user_agent.is_pc),\n",
    "        is_bot=int(user_agent.is_bot)\n",
    "    )).toDF()\\\n",
    "    .na.fill({'device_brand': 'Other', 'device_model': 'Other', 'os_version': '-1'})\\\n",
    "    .cache()\n",
    "df.show(5)"
   ]
  },
  {
   "cell_type": "code",
   "execution_count": 7,
   "metadata": {},
   "outputs": [
    {
     "name": "stdout",
     "output_type": "stream",
     "text": [
      "root\n",
      " |-- browser: string (nullable = true)\n",
      " |-- browser_version: string (nullable = true)\n",
      " |-- device_brand: string (nullable = false)\n",
      " |-- device_model: string (nullable = false)\n",
      " |-- is_bot: long (nullable = true)\n",
      " |-- is_mobile: long (nullable = true)\n",
      " |-- is_pc: long (nullable = true)\n",
      " |-- is_tablet: long (nullable = true)\n",
      " |-- os: string (nullable = true)\n",
      " |-- os_version: string (nullable = false)\n",
      "\n"
     ]
    }
   ],
   "source": [
    "df.printSchema()"
   ]
  },
  {
   "cell_type": "code",
   "execution_count": 8,
   "metadata": {},
   "outputs": [
    {
     "name": "stdout",
     "output_type": "stream",
     "text": [
      "+---------+---------------+------------+------------+------+---------+-----+---------+-------+----------+\n",
      "|  browser|browser_version|device_brand|device_model|is_bot|is_mobile|is_pc|is_tablet|     os|os_version|\n",
      "+---------+---------------+------------+------------+------+---------+-----+---------+-------+----------+\n",
      "|   Safari|              4|     Generic|  Smartphone|     0|        1|    0|        1|Android|        -1|\n",
      "|   Chrome|             41|       Other|       Other|     0|        0|    0|        0|  Other|        -1|\n",
      "|CFNetwork|            811|       Apple|  iOS-Device|     0|        1|    1|        0|Windows|         7|\n",
      "|Googlebot|              2|      Spider|  Smartphone|     1|        1|    0|        0|Android|         6|\n",
      "|Googlebot|              2|      Spider|  Smartphone|     1|        1|    0|        0|Android|         6|\n",
      "|   Puffin|              6|     Generic|  Smartphone|     0|        1|    1|        0|  Linux|        -1|\n",
      "+---------+---------------+------------+------------+------+---------+-----+---------+-------+----------+\n",
      "\n"
     ]
    }
   ],
   "source": [
    "#  CFNetwork|        1|    1|        0|     0|\n",
    "#  Chrome|        0|    0|        0|     0|\n",
    "#  Googlebot|        1|    0|        0|     1|\n",
    "#  Puffin|        1|    1|        0|     0|\n",
    "#  Safari|        1|    0|        1|     0|\n",
    "df.where(\n",
    "    '''\n",
    "    (browser='CFNetwork' and is_mobile=1 and is_pc=1 and is_tablet=0 and is_bot=0) or\n",
    "    (browser='Chrome' and is_mobile=0 and is_pc=0 and is_tablet=0 and is_bot=0) or\n",
    "    (browser='Googlebot' and is_mobile=1 and is_pc=0 and is_tablet=0 and is_bot=1) or\n",
    "    (browser='Puffin' and is_mobile=1 and is_pc=1 and is_tablet=0 and is_bot=0) or\n",
    "    (browser='Safari' and is_mobile=1 and is_pc=0 and is_tablet=1 and is_bot=0)\n",
    "    ''').show()\n",
    "# following are weird."
   ]
  },
  {
   "cell_type": "code",
   "execution_count": 9,
   "metadata": {},
   "outputs": [
    {
     "name": "stdout",
     "output_type": "stream",
     "text": [
      "+----------------+-----+\n",
      "|         browser|count|\n",
      "+----------------+-----+\n",
      "|          Chrome|  881|\n",
      "|          Safari|  376|\n",
      "|        Facebook|  236|\n",
      "|              IE|  115|\n",
      "|Samsung Internet|   39|\n",
      "+----------------+-----+\n",
      "only showing top 5 rows\n",
      "\n",
      "total: 1745\n"
     ]
    }
   ],
   "source": [
    "df.select('browser').where('is_bot = false').groupby('browser').count().sort(desc('count')).show(5)\n",
    "print('total: {}'.format(df.select('browser').where('is_bot = false').count()))"
   ]
  },
  {
   "cell_type": "code",
   "execution_count": 10,
   "metadata": {},
   "outputs": [
    {
     "name": "stdout",
     "output_type": "stream",
     "text": [
      "+-------------+-----+\n",
      "|      browser|count|\n",
      "+-------------+-----+\n",
      "|    Googlebot|  218|\n",
      "|    YandexBot|    7|\n",
      "| Yahoo! Slurp|    4|\n",
      "|AdsBot-Google|    2|\n",
      "|       okhttp|    1|\n",
      "+-------------+-----+\n",
      "\n",
      "total: 232\n"
     ]
    }
   ],
   "source": [
    "df.select('browser').where('is_bot = true').groupby('browser').count().sort(desc('count')).show(5)\n",
    "print('total: {}'.format(df.select('browser').where('is_bot = true').count()))"
   ]
  },
  {
   "cell_type": "code",
   "execution_count": 11,
   "metadata": {},
   "outputs": [
    {
     "name": "stdout",
     "output_type": "stream",
     "text": [
      "+-------+---------------+-----+\n",
      "|browser|browser_version|count|\n",
      "+-------+---------------+-----+\n",
      "| Chrome|             59|  339|\n",
      "|     IE|             11|  103|\n",
      "| Chrome|             49|   39|\n",
      "| Chrome|             60|   32|\n",
      "|Firefox|             54|   23|\n",
      "+-------+---------------+-----+\n",
      "only showing top 5 rows\n",
      "\n"
     ]
    }
   ],
   "source": [
    "df.where('is_pc = true')\\\n",
    "    .rollup('browser', 'browser_version').count().dropna().sort(desc('count')).show(5)"
   ]
  },
  {
   "cell_type": "code",
   "execution_count": 12,
   "metadata": {},
   "outputs": [
    {
     "name": "stdout",
     "output_type": "stream",
     "text": [
      "+----------------+---------------+-----+\n",
      "|         browser|browser_version|count|\n",
      "+----------------+---------------+-----+\n",
      "|          Safari|             10|  285|\n",
      "|          Chrome|             59|  260|\n",
      "|        Facebook|            134|  133|\n",
      "|          Chrome|             58|   35|\n",
      "|Samsung Internet|              5|   29|\n",
      "+----------------+---------------+-----+\n",
      "only showing top 5 rows\n",
      "\n"
     ]
    }
   ],
   "source": [
    "df.where('is_mobile = true')\\\n",
    "    .rollup('browser', 'browser_version').count().dropna().sort(desc('count')).show(5)"
   ]
  },
  {
   "cell_type": "code",
   "execution_count": 13,
   "metadata": {},
   "outputs": [
    {
     "name": "stdout",
     "output_type": "stream",
     "text": [
      "+---------------+-----+\n",
      "|   device_brand|count|\n",
      "+---------------+-----+\n",
      "|        Samsung|  224|\n",
      "|           Asus|   85|\n",
      "|Generic_Android|   84|\n",
      "|            HTC|   82|\n",
      "|         XiaoMi|   28|\n",
      "|   SonyEricsson|   22|\n",
      "|           Sony|   13|\n",
      "|             LG|   12|\n",
      "|           Oppo|    9|\n",
      "|           vivo|    5|\n",
      "+---------------+-----+\n",
      "only showing top 10 rows\n",
      "\n"
     ]
    }
   ],
   "source": [
    "df.where('is_mobile = true and os = \"Android\"')\\\n",
    "    .select('device_brand')\\\n",
    "    .groupby('device_brand')\\\n",
    "    .count()\\\n",
    "    .sort(desc('count'))\\\n",
    "    .show(10)"
   ]
  },
  {
   "cell_type": "code",
   "execution_count": 14,
   "metadata": {},
   "outputs": [
    {
     "name": "stdout",
     "output_type": "stream",
     "text": [
      "+-------+-----+\n",
      "|     os|count|\n",
      "+-------+-----+\n",
      "|Android|  572|\n",
      "|    iOS|  457|\n",
      "|Windows|    1|\n",
      "|  Linux|    1|\n",
      "+-------+-----+\n",
      "\n"
     ]
    }
   ],
   "source": [
    "df.where('is_mobile = true')\\\n",
    "    .select('os')\\\n",
    "    .groupby('os')\\\n",
    "    .count()\\\n",
    "    .sort(desc('count'))\\\n",
    "    .show(5)"
   ]
  },
  {
   "cell_type": "code",
   "execution_count": 15,
   "metadata": {},
   "outputs": [
    {
     "name": "stdout",
     "output_type": "stream",
     "text": [
      "+--------+-----+\n",
      "|      os|count|\n",
      "+--------+-----+\n",
      "| Windows|  608|\n",
      "|Mac OS X|   26|\n",
      "|   Linux|    8|\n",
      "|  Ubuntu|    2|\n",
      "+--------+-----+\n",
      "\n"
     ]
    }
   ],
   "source": [
    "df.where('is_pc = true')\\\n",
    "    .select('os')\\\n",
    "    .groupby('os')\\\n",
    "    .count()\\\n",
    "    .sort(desc('count'))\\\n",
    "    .show(5)"
   ]
  },
  {
   "cell_type": "code",
   "execution_count": 16,
   "metadata": {},
   "outputs": [],
   "source": [
    "df.toPandas().to_csv('dataset1.csv', index=False, header=True, encoding='utf-8')"
   ]
  },
  {
   "cell_type": "markdown",
   "metadata": {},
   "source": [
    "<div>\n",
    "    <a href=\"https://plot.ly/~avidoggy/5/?share_key=EzvdrKsYvsk1M09Q5tzOAE\" target=\"_blank\" title=\"Plot 5\" style=\"display: block; text-align: center;\"><img src=\"https://plot.ly/~avidoggy/5.png?share_key=EzvdrKsYvsk1M09Q5tzOAE\" alt=\"Plot 5\" style=\"max-width: 100%;width: 600px;\"  width=\"600\" onerror=\"this.onerror=null;this.src='https://plot.ly/404.png';\" /></a>\n",
    "    <script data-plotly=\"avidoggy:5\" sharekey-plotly=\"EzvdrKsYvsk1M09Q5tzOAE\" src=\"https://plot.ly/embed.js\" async></script>\n",
    "</div>"
   ]
  },
  {
   "cell_type": "code",
   "execution_count": null,
   "metadata": {},
   "outputs": [],
   "source": []
  }
 ],
 "metadata": {
  "kernelspec": {
   "display_name": "Python 2",
   "language": "python",
   "name": "python2"
  },
  "language_info": {
   "codemirror_mode": {
    "name": "ipython",
    "version": 2
   },
   "file_extension": ".py",
   "mimetype": "text/x-python",
   "name": "python",
   "nbconvert_exporter": "python",
   "pygments_lexer": "ipython2",
   "version": "2.7.5"
  }
 },
 "nbformat": 4,
 "nbformat_minor": 2
}
