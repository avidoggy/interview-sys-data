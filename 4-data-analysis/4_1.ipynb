{
 "cells": [
  {
   "cell_type": "code",
   "execution_count": 1,
   "metadata": {},
   "outputs": [],
   "source": [
    "from pyspark.sql import *\n",
    "from pyspark.sql.functions import *\n",
    "from user_agents import parse"
   ]
  },
  {
   "cell_type": "code",
   "execution_count": 2,
   "metadata": {},
   "outputs": [],
   "source": [
    "spark = SparkSession.builder.appName('4_1').master('local[2]').config('driver.memory', '8g').getOrCreate()"
   ]
  },
  {
   "cell_type": "code",
   "execution_count": 3,
   "metadata": {},
   "outputs": [],
   "source": [
    "rdd = spark.sparkContext.textFile('../dataset1')"
   ]
  },
  {
   "cell_type": "code",
   "execution_count": 4,
   "metadata": {},
   "outputs": [
    {
     "data": {
      "text/plain": [
       "1977"
      ]
     },
     "execution_count": 4,
     "metadata": {},
     "output_type": "execute_result"
    }
   ],
   "source": [
    "rdd.count()"
   ]
  },
  {
   "cell_type": "code",
   "execution_count": 5,
   "metadata": {},
   "outputs": [
    {
     "data": {
      "text/plain": [
       "[u'Mozilla/5.0 (Windows NT 10.0; WOW64; rv:54.0) Gecko/20100101 Firefox/54.0',\n",
       " u'Mozilla/5.0 (Linux; Android 7.0; SAMSUNG SM-G935F Build/NRD90M) AppleWebKit/537.36 (KHTML, like Gecko) SamsungBrowser/5.4 Chrome/51.0.2704.106 Mobile Safari/537.36',\n",
       " u'Mozilla/5.0 (Windows NT 6.3; Win64; x64) AppleWebKit/537.36 (KHTML, like Gecko) Chrome/59.0.3071.115 Safari/537.36']"
      ]
     },
     "execution_count": 5,
     "metadata": {},
     "output_type": "execute_result"
    }
   ],
   "source": [
    "rdd.take(3)"
   ]
  },
  {
   "cell_type": "code",
   "execution_count": 6,
   "metadata": {},
   "outputs": [
    {
     "name": "stdout",
     "output_type": "stream",
     "text": [
      "+----------------+---------------+----------------+------------+------------+------+---------+-----+---------+----------------+-----------+----------+\n",
      "|         browser|browser_version|          device|device_brand|device_model|is_bot|is_mobile|is_pc|is_tablet|is_touch_capable|         os|os_version|\n",
      "+----------------+---------------+----------------+------------+------------+------+---------+-----+---------+----------------+-----------+----------+\n",
      "|         Firefox|           54.0|           Other|        null|        null| false|    false| true|    false|           false| Windows 10|          |\n",
      "|Samsung Internet|            5.4|Samsung SM-G935F|     Samsung|    SM-G935F| false|     true|false|    false|            true|    Android|       7.0|\n",
      "|          Chrome|      59.0.3071|           Other|        null|        null| false|    false| true|    false|           false|Windows 8.1|          |\n",
      "|          Chrome|      59.0.3071|           Other|        null|        null| false|    false| true|    false|           false|  Windows 7|          |\n",
      "|   Mobile Safari|           10.0|          iPhone|       Apple|      iPhone| false|     true|false|    false|            true|        iOS|    10.3.2|\n",
      "+----------------+---------------+----------------+------------+------------+------+---------+-----+---------+----------------+-----------+----------+\n",
      "only showing top 5 rows\n",
      "\n"
     ]
    }
   ],
   "source": [
    "df = rdd.map(lambda string: parse(string))\\\n",
    "    .map(lambda user_agent: Row(\n",
    "        **{\n",
    "            'browser': user_agent.browser.family,\n",
    "            'browser_version': user_agent.browser.version_string,\n",
    "            'os': user_agent.os.family,\n",
    "            'os_version': user_agent.os.version_string,\n",
    "            'device': user_agent.device.family,\n",
    "            'device_brand': user_agent.device.brand,\n",
    "            'device_model': user_agent.device.model,\n",
    "            'is_mobile': user_agent.is_mobile,\n",
    "            'is_tablet': user_agent.is_tablet,\n",
    "            'is_touch_capable': user_agent.is_touch_capable,\n",
    "            'is_pc': user_agent.is_pc,\n",
    "            'is_bot': user_agent.is_bot\n",
    "        }\n",
    "    )).toDF()\\\n",
    "    .cache()\n",
    "df.show(5)"
   ]
  },
  {
   "cell_type": "code",
   "execution_count": 7,
   "metadata": {},
   "outputs": [
    {
     "name": "stdout",
     "output_type": "stream",
     "text": [
      "+--------------------+-----+\n",
      "|             browser|count|\n",
      "+--------------------+-----+\n",
      "|              Chrome|  463|\n",
      "|       Chrome Mobile|  398|\n",
      "|       Mobile Safari|  251|\n",
      "|            Facebook|  236|\n",
      "|                  IE|  115|\n",
      "|Mobile Safari UI/...|  107|\n",
      "|    Samsung Internet|   39|\n",
      "|             Firefox|   33|\n",
      "|                Edge|   21|\n",
      "|   Chrome Mobile iOS|   20|\n",
      "|              Safari|   18|\n",
      "|              okhttp|   12|\n",
      "|             Android|   10|\n",
      "|             Maxthon|    6|\n",
      "|               Opera|    6|\n",
      "|        Opera Mobile|    5|\n",
      "|           CFNetwork|    2|\n",
      "|              Puffin|    1|\n",
      "|           Crosswalk|    1|\n",
      "|           Googlebot|    1|\n",
      "+--------------------+-----+\n",
      "\n",
      "total: 1745\n"
     ]
    }
   ],
   "source": [
    "df.select('browser').where('is_bot = false').groupby('browser').count().sort(desc('count')).show()\n",
    "print('total: {}'.format(df.select('browser').where('is_bot = false').count()))"
   ]
  },
  {
   "cell_type": "code",
   "execution_count": 8,
   "metadata": {},
   "outputs": [
    {
     "name": "stdout",
     "output_type": "stream",
     "text": [
      "+-------------+-----+\n",
      "|      browser|count|\n",
      "+-------------+-----+\n",
      "|    Googlebot|  218|\n",
      "|    YandexBot|    7|\n",
      "| Yahoo! Slurp|    4|\n",
      "|AdsBot-Google|    2|\n",
      "|       okhttp|    1|\n",
      "+-------------+-----+\n",
      "\n",
      "total: 232\n"
     ]
    }
   ],
   "source": [
    "df.select('browser').where('is_bot = true').groupby('browser').count().sort(desc('count')).show()\n",
    "print('total: {}'.format(df.select('browser').where('is_bot = true').count()))"
   ]
  },
  {
   "cell_type": "code",
   "execution_count": 9,
   "metadata": {},
   "outputs": [
    {
     "name": "stdout",
     "output_type": "stream",
     "text": [
      "+-------+---------------+-----+\n",
      "|browser|browser_version|count|\n",
      "+-------+---------------+-----+\n",
      "| Chrome|      59.0.3071|  339|\n",
      "|     IE|           11.0|  103|\n",
      "| Chrome|      49.0.2623|   39|\n",
      "| Chrome|      60.0.3112|   32|\n",
      "| Chrome|      58.0.3029|    7|\n",
      "+-------+---------------+-----+\n",
      "only showing top 5 rows\n",
      "\n"
     ]
    }
   ],
   "source": [
    "df.where('is_pc = true')\\\n",
    "    .where('''\n",
    "        browser = \"Chrome\" or \n",
    "        browser = \"Chrome Mobile\" or \n",
    "        browser = \"Mobile Safari\" or \n",
    "        browser = \"Facebook\" or \n",
    "        browser = \"IE\"\n",
    "    ''')\\\n",
    "    .rollup('browser', 'browser_version').count().dropna().sort(desc('count')).show(5)"
   ]
  },
  {
   "cell_type": "code",
   "execution_count": 10,
   "metadata": {},
   "outputs": [
    {
     "name": "stdout",
     "output_type": "stream",
     "text": [
      "+-------------+---------------+-----+\n",
      "|      browser|browser_version|count|\n",
      "+-------------+---------------+-----+\n",
      "|Chrome Mobile|      59.0.3071|  252|\n",
      "|Mobile Safari|           10.0|  143|\n",
      "|     Facebook|        134.0.0|  133|\n",
      "|Chrome Mobile|      58.0.3029|   35|\n",
      "|Mobile Safari|         10.3.2|   26|\n",
      "+-------------+---------------+-----+\n",
      "only showing top 5 rows\n",
      "\n"
     ]
    }
   ],
   "source": [
    "df.where('is_mobile = true')\\\n",
    "    .where('''\n",
    "        browser = \"Chrome\" or \n",
    "        browser = \"Chrome Mobile\" or \n",
    "        browser = \"Mobile Safari\" or \n",
    "        browser = \"Facebook\" or \n",
    "        browser = \"IE\"\n",
    "    ''')\\\n",
    "    .rollup('browser', 'browser_version').count().dropna().sort(desc('count')).show(5)"
   ]
  },
  {
   "cell_type": "code",
   "execution_count": 14,
   "metadata": {},
   "outputs": [
    {
     "name": "stdout",
     "output_type": "stream",
     "text": [
      "+---------------+-----+\n",
      "|   device_brand|count|\n",
      "+---------------+-----+\n",
      "|        Samsung|  224|\n",
      "|           Asus|   85|\n",
      "|Generic_Android|   84|\n",
      "|            HTC|   82|\n",
      "|         XiaoMi|   28|\n",
      "|   SonyEricsson|   22|\n",
      "|           Sony|   13|\n",
      "|             LG|   12|\n",
      "|           Oppo|    9|\n",
      "|           vivo|    5|\n",
      "+---------------+-----+\n",
      "only showing top 10 rows\n",
      "\n"
     ]
    }
   ],
   "source": [
    "df.where('is_mobile = true and os = \"Android\"').select('device_brand').groupby('device_brand').count().sort(desc('count')).show(10)"
   ]
  },
  {
   "cell_type": "code",
   "execution_count": 13,
   "metadata": {},
   "outputs": [
    {
     "name": "stdout",
     "output_type": "stream",
     "text": [
      "+---------+-----+\n",
      "|       os|count|\n",
      "+---------+-----+\n",
      "|  Android|  572|\n",
      "|      iOS|  457|\n",
      "|    Linux|    1|\n",
      "|Windows 7|    1|\n",
      "+---------+-----+\n",
      "\n"
     ]
    }
   ],
   "source": [
    "df.where('is_mobile = true').select('os').groupby('os').count().sort(desc('count')).show(10)"
   ]
  },
  {
   "cell_type": "code",
   "execution_count": 12,
   "metadata": {},
   "outputs": [
    {
     "name": "stdout",
     "output_type": "stream",
     "text": [
      "+-----------+-----+\n",
      "|         os|count|\n",
      "+-----------+-----+\n",
      "|  Windows 7|  367|\n",
      "| Windows 10|  154|\n",
      "| Windows XP|   52|\n",
      "|Windows 8.1|   29|\n",
      "|   Mac OS X|   26|\n",
      "|      Linux|    8|\n",
      "|  Windows 8|    6|\n",
      "|     Ubuntu|    2|\n",
      "+-----------+-----+\n",
      "\n"
     ]
    }
   ],
   "source": [
    "df.where('is_pc = true').select('os').groupby('os').count().sort(desc('count')).show(10)"
   ]
  },
  {
   "cell_type": "code",
   "execution_count": null,
   "metadata": {},
   "outputs": [],
   "source": []
  }
 ],
 "metadata": {
  "kernelspec": {
   "display_name": "Python 2",
   "language": "python",
   "name": "python2"
  },
  "language_info": {
   "codemirror_mode": {
    "name": "ipython",
    "version": 2
   },
   "file_extension": ".py",
   "mimetype": "text/x-python",
   "name": "python",
   "nbconvert_exporter": "python",
   "pygments_lexer": "ipython2",
   "version": "2.7.5"
  }
 },
 "nbformat": 4,
 "nbformat_minor": 2
}
